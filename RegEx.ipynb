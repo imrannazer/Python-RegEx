{
 "cells": [
  {
   "cell_type": "markdown",
   "id": "d9df8d30-a7dd-4f5f-9c14-8013f1497a34",
   "metadata": {},
   "source": [
    "https://docs.python.org/3/library/re.html"
   ]
  },
  {
   "cell_type": "markdown",
   "id": "11302acb-6407-46b5-acdf-123af4d8d056",
   "metadata": {},
   "source": [
    "## RegEx"
   ]
  },
  {
   "cell_type": "markdown",
   "id": "a263c6ff-9cbe-44a2-bbbd-a38f0713d520",
   "metadata": {},
   "source": [
    "- Search is case-sensetive"
   ]
  },
  {
   "cell_type": "code",
   "execution_count": 1,
   "id": "791e1dd9-7772-4f47-a7f4-89835d80348a",
   "metadata": {},
   "outputs": [
    {
     "name": "stdout",
     "output_type": "stream",
     "text": [
      "Note: you may need to restart the kernel to use updated packages.\n"
     ]
    },
    {
     "name": "stderr",
     "output_type": "stream",
     "text": [
      "ERROR: Could not find a version that satisfies the requirement re (from versions: none)\n",
      "ERROR: No matching distribution found for re\n",
      "WARNING: You are using pip version 22.0.4; however, version 23.3.2 is available.\n",
      "You should consider upgrading via the 'C:\\Users\\pc\\AppData\\Local\\Programs\\Python\\Python310\\python.exe -m pip install --upgrade pip' command.\n"
     ]
    }
   ],
   "source": [
    "pip install re"
   ]
  },
  {
   "cell_type": "code",
   "execution_count": 2,
   "id": "aba018ed-4f3e-4662-8d0d-427a9752c0ea",
   "metadata": {},
   "outputs": [],
   "source": [
    "import re"
   ]
  },
  {
   "cell_type": "code",
   "execution_count": 3,
   "id": "be06d944-b164-430b-af41-0d3c96d7f316",
   "metadata": {},
   "outputs": [
    {
     "data": {
      "text/plain": [
       "<module 're' from 'C:\\\\Users\\\\pc\\\\AppData\\\\Local\\\\Programs\\\\Python\\\\Python310\\\\lib\\\\re.py'>"
      ]
     },
     "execution_count": 3,
     "metadata": {},
     "output_type": "execute_result"
    }
   ],
   "source": [
    "re"
   ]
  },
  {
   "cell_type": "code",
   "execution_count": 4,
   "id": "0c15e7bd-fc58-4284-babe-119dbffa5750",
   "metadata": {},
   "outputs": [],
   "source": [
    "string = \"\"\"\n",
    "Lorem ipsum dolor 453 sit amet. @gmailEst enim @gmailautem est libero ipsa sit laboriosam256 iusto aut aperiam molestiae. \n",
    "        \"\"\""
   ]
  },
  {
   "cell_type": "code",
   "execution_count": 5,
   "id": "cd4d417c-840e-4ba6-a2bf-2eef44cf85a9",
   "metadata": {},
   "outputs": [
    {
     "name": "stdout",
     "output_type": "stream",
     "text": [
      "From s1 old\n",
      "ew\n",
      "From s2 old\\new\n"
     ]
    }
   ],
   "source": [
    "s1,s2 = 'old\\new', r'old\\new'\n",
    "print('From s1',s1); print('From s2',s2)"
   ]
  },
  {
   "cell_type": "markdown",
   "id": "331d6de0-41d6-4336-b243-b5127af538ea",
   "metadata": {
    "jp-MarkdownHeadingCollapsed": true
   },
   "source": [
    "### Create a pattern to search from string\n",
    "   - **r** used for row string"
   ]
  },
  {
   "cell_type": "code",
   "execution_count": 6,
   "id": "a80d4436-6cc5-4653-9003-71f56d81484f",
   "metadata": {},
   "outputs": [],
   "source": [
    "pattern = re.compile(r'\\d\\d\\d')"
   ]
  },
  {
   "cell_type": "markdown",
   "id": "eadfd4ef-dff0-4556-aed7-3a8c5f72482a",
   "metadata": {
    "jp-MarkdownHeadingCollapsed": true
   },
   "source": [
    "### RegEx Functions"
   ]
  },
  {
   "cell_type": "markdown",
   "id": "86f230f5-3627-49b7-9466-ce0100f155d9",
   "metadata": {},
   "source": [
    "- **search( )**:\tReturns a first Match object if there is a match anywhere in the string"
   ]
  },
  {
   "cell_type": "code",
   "execution_count": 7,
   "id": "2628409d-39fc-4ca2-9e71-83a843b4e303",
   "metadata": {},
   "outputs": [
    {
     "name": "stdout",
     "output_type": "stream",
     "text": [
      "<re.Match object; span=(19, 22), match='453'>\n"
     ]
    }
   ],
   "source": [
    "result = pattern.search(string)\n",
    "print(result)"
   ]
  },
  {
   "cell_type": "markdown",
   "id": "d990ce3c-bd4f-45eb-bc01-a2b58af9327a",
   "metadata": {},
   "source": [
    "- **finditer( )**:\tReturns a list object containing all matches\n",
    "  - group( ) return only matches value"
   ]
  },
  {
   "cell_type": "code",
   "execution_count": 8,
   "id": "9c8e9148-ca75-4836-b782-3ff957f0b015",
   "metadata": {},
   "outputs": [
    {
     "name": "stdout",
     "output_type": "stream",
     "text": [
      "453,256,"
     ]
    }
   ],
   "source": [
    "results = pattern.finditer(string)\n",
    "for result in results: print(result.group(), end = ',')"
   ]
  },
  {
   "cell_type": "code",
   "execution_count": 9,
   "id": "0d6cec1f-b3f2-4ba7-9aff-049af47ff7bd",
   "metadata": {},
   "outputs": [],
   "source": [
    "for result in results: \n",
    "    print(result)"
   ]
  },
  {
   "cell_type": "markdown",
   "id": "21e1adf5-934e-4059-8406-1b13f127606b",
   "metadata": {},
   "source": [
    "- **findall( )**:\tReturns a list containing all matches"
   ]
  },
  {
   "cell_type": "code",
   "execution_count": 10,
   "id": "d2b86470-9dd5-4664-b967-acf0287c31c5",
   "metadata": {},
   "outputs": [
    {
     "name": "stdout",
     "output_type": "stream",
     "text": [
      "453,256,"
     ]
    }
   ],
   "source": [
    "results = pattern.findall(string)\n",
    "for result in results: print(result, end=',')"
   ]
  },
  {
   "cell_type": "markdown",
   "id": "a93165cc-80a5-4854-9fa8-6adbe2df3bfe",
   "metadata": {},
   "source": [
    "- **split( )**:\tReturns a list where the string has been split at each match"
   ]
  },
  {
   "cell_type": "code",
   "execution_count": 11,
   "id": "7301289c-0c22-434f-81d4-b1041fddec8b",
   "metadata": {},
   "outputs": [
    {
     "name": "stdout",
     "output_type": "stream",
     "text": [
      "['Lorem', 'ipsum dolo250r goll foo']\n"
     ]
    }
   ],
   "source": [
    "# Split the string at the first white-space character\n",
    "string = \"\"\"Lorem ipsum dolo250r goll foo\"\"\"\n",
    "matches = re.split(\"\\s\", string, 1)\n",
    "print(matches)"
   ]
  },
  {
   "cell_type": "code",
   "execution_count": 12,
   "id": "b81956dc-15f8-45d3-8a98-383d48aedee0",
   "metadata": {},
   "outputs": [
    {
     "name": "stdout",
     "output_type": "stream",
     "text": [
      "['Lorem', 'ipsum', 'dolo250r', 'goll', 'foo']\n"
     ]
    }
   ],
   "source": [
    "# Split at each white-space character\n",
    "string = \"\"\"Lorem ipsum dolo250r goll foo\"\"\"\n",
    "matches = re.split(\"\\s\", string)\n",
    "print(matches)"
   ]
  },
  {
   "cell_type": "markdown",
   "id": "86c84f03-c156-4689-905a-bea030959360",
   "metadata": {},
   "source": [
    "- **sub( )**: Replaces one or many matches with a string"
   ]
  },
  {
   "cell_type": "code",
   "execution_count": 13,
   "id": "cdf58661-e9f4-4477-8aa1-7d45bbf6f376",
   "metadata": {},
   "outputs": [
    {
     "name": "stdout",
     "output_type": "stream",
     "text": [
      "Lorem$ipsum$dolo250r$goll$foo\n"
     ]
    }
   ],
   "source": [
    "#Replace all white-space characters with the digit \"$\":\n",
    "string = \"\"\"Lorem ipsum dolo250r goll foo\"\"\"\n",
    "matches = re.sub(\"\\s\",'$', string)\n",
    "print(matches)"
   ]
  },
  {
   "cell_type": "code",
   "execution_count": 14,
   "id": "635856da-778c-4074-8af7-8d669a84701b",
   "metadata": {},
   "outputs": [
    {
     "name": "stdout",
     "output_type": "stream",
     "text": [
      "Lorem$ipsum$dolo250r goll foo\n"
     ]
    }
   ],
   "source": [
    "#Replace the first two occurrences of a white-space character with the digit 9:\n",
    "string = \"\"\"Lorem ipsum dolo250r goll foo\"\"\"\n",
    "matches = re.sub(\"\\s\", \"$\", string, 2)\n",
    "print(matches)\n"
   ]
  },
  {
   "cell_type": "code",
   "execution_count": 15,
   "id": "5d4dd0ce-a0f2-4ae9-b33e-7c8c6b9277ad",
   "metadata": {},
   "outputs": [
    {
     "name": "stdout",
     "output_type": "stream",
     "text": [
      "my income in 2019 is ****** but now it is ******\n"
     ]
    }
   ],
   "source": [
    "text = 'my income in 2019 is $30000 but now it is $500000'\n",
    "pattern = re.compile(r\"\\$\\d[0-9]+\")\n",
    "matches = pattern.sub(\"******\", text)\n",
    "print(matches)"
   ]
  },
  {
   "cell_type": "markdown",
   "id": "e98f52f0-1a87-43b9-84ea-7e26b7b22550",
   "metadata": {
    "jp-MarkdownHeadingCollapsed": true
   },
   "source": [
    "### RegEx Special Sequences"
   ]
  },
  {
   "cell_type": "markdown",
   "id": "0a55954a-7a27-411b-a783-f6ccf765fc35",
   "metadata": {},
   "source": [
    "- A special sequence is a ` \\ ` followed by one of the characters in the list below, and has a special meaning.         \n",
    "- The \"r\" in the beginning is making sure that the string is being treated as a \"raw string\"."
   ]
  },
  {
   "cell_type": "markdown",
   "id": "34bcb21e-2052-40ff-ba3b-23765753d555",
   "metadata": {},
   "source": [
    "<table>\n",
    "  <tbody>\n",
    "    <tr>\n",
    "      <th style=\"width:120px\">Character</th>\n",
    "      <th>Description</th>\n",
    "      <th style=\"width:120px\">Example</th>\n",
    "    </tr>\n",
    "    <tr>\n",
    "      <td>\\A</td>\n",
    "      <td>Returns a match if the specified characters are at the beginning of the string</td>\n",
    "      <td>\"\\AThe\"</td>\n",
    "    </tr>\n",
    "    <tr>\n",
    "      <td>\\b</td>\n",
    "      <td>Returns a match where the specified characters are at the beginning or at the \"raw string\")</td>\n",
    "      <td>\"\\bain\"<br>r\"ain\\b\"</td>\n",
    "    </tr>\n",
    "    <tr>\n",
    "      <td>\\B</td>\n",
    "      <td>Returns a match where the specified characters are present, but NOT at the beginning (or at as a \"raw string\")</td>\n",
    "  <td>r\"\\Bain\"<br>r\"ain\\B\"</td>\n",
    "    </tr>\n",
    "    <tr>\n",
    "      <td>\\d</td>\n",
    "      <td>Returns a match where the string contains digits (numbers from 0-9)</td>\n",
    "      <td>\"\\d\"</td>\n",
    "    </tr>\n",
    "    <tr>\n",
    "      <td>\\D</td>\n",
    "      <td>Returns a match where the string DOES NOT contain digits</td>\n",
    "      <td>\"\\D\"</td>\n",
    "    </tr>\n",
    "    <tr>\n",
    "      <td>\\s</td>\n",
    "      <td>Returns a match where the string contains a white space character</td>\n",
    "      <td>\"\\s\"</td>\n",
    "    </tr>\n",
    "    <tr>\n",
    "      <td>\\S</td>\n",
    "      <td>Returns a match where the string DOES NOT contain a white space character</td>\n",
    "      <td>\"\\S\"</td>\n",
    "    </tr>\n",
    "    <tr>\n",
    "      <td>\\w</td>\n",
    "      <td>Returns a match where the string contains any word characters (characters from a to Z, digits from 0-9, and the underscore _ character)</td>\n",
    "      <td>\"\\w\"</td>\n",
    "    </tr>\n",
    "    <tr>\n",
    "      <td>\\W</td>\n",
    "      <td>Returns a match where the string DOES NOT contain any word characters</td>\n",
    "      <td>\"\\W\"</td>\n",
    "    </tr>\n",
    "    <tr>\n",
    "      <td>\\Z</td>\n",
    "      <td>Returns a match if the specified characters are at the end of the string</td>\n",
    "      <td>\"Spain\\Z\"</td>\n",
    "    </tr>\n",
    "  </tbody>\n",
    "</table>\n"
   ]
  },
  {
   "cell_type": "code",
   "execution_count": null,
   "id": "2502c3fb-46d7-46ac-bc97-b425484274e3",
   "metadata": {},
   "outputs": [],
   "source": []
  },
  {
   "cell_type": "markdown",
   "id": "daeba131-964e-4fc1-82f2-3b2fb3ddffea",
   "metadata": {
    "jp-MarkdownHeadingCollapsed": true
   },
   "source": [
    "### RegEx Metacharacters"
   ]
  },
  {
   "cell_type": "markdown",
   "id": "804aa8ff-7868-431a-81b5-f3fd920bac9d",
   "metadata": {},
   "source": [
    "<table >\n",
    "  <tbody>\n",
    "    <tr>\n",
    "      <th style=\"width:120px\">Character</th>\n",
    "      <th>Description</th>\n",
    "      <th style=\"width:120px\">Example</th>\n",
    "    </tr>\n",
    "    <tr>\n",
    "      <td>[]</td>\n",
    "      <td>A set of characters</td>\n",
    "      <td>\"[a-m]\"</td>\n",
    "    </tr>\n",
    "    <tr>\n",
    "      <td>\\</td>\n",
    "      <td>Signals a special sequence (can also be used to escape special characters)</td>\n",
    "      <td>\"\\d\"</td>\n",
    "    </tr>\n",
    "    <tr>\n",
    "      <td>.</td>\n",
    "      <td>Any character (except newline character)</td>\n",
    "      <td>\"he..o\"</td>\n",
    "    </tr>\n",
    "    <tr>\n",
    "      <td>^</td>\n",
    "      <td>Starts with</td>\n",
    "      <td>\"^hello\"</td>\n",
    "    </tr>\n",
    "    <tr>\n",
    "      <td>` $ `</td>\n",
    "      <td>Ends with</td>\n",
    "      <td>\"planet$\"</td>\n",
    "    </tr>\n",
    "    <tr>\n",
    "      <td>*</td>\n",
    "      <td>Zero or more occurrences, same characters</td>\n",
    "      <td>\"he.*o\"</td>\n",
    "    </tr>\n",
    "    <tr>\n",
    "      <td>+</td>\n",
    "      <td>One or more occurrences(digit or alphabet)</td>\n",
    "      <td>\"he.+o\"</td>\n",
    "    </tr>\n",
    "    <tr>\n",
    "      <td>?</td>\n",
    "      <td>Zero or one occurrence, but optional characters</td>\n",
    "      <td>\"he.?o\"</td>\n",
    "    </tr>\n",
    "    <tr>\n",
    "      <td>{}</td>\n",
    "      <td>Exactly the specified number of occurrences</td>\n",
    "      <td>\"he.{2}o\"</td>\n",
    "    </tr>\n",
    "    <tr>\n",
    "      <td>{3}</td>\n",
    "      <td>Exactly the 3 specified number of occurrences</td>\n",
    "      <td>\"he.{3}o\"</td>\n",
    "    </tr>\n",
    "    <tr>\n",
    "      <td>{min, max}</td>\n",
    "      <td>Exactly the min to max specified number of occurrences</td>\n",
    "      <td>\"he.{2,5}o\"</td>\n",
    "    </tr>\n",
    "    <tr>\n",
    "      <td>{,5}</td>\n",
    "      <td>Exactly the min 0 to max 5 specified number of occurrences</td>\n",
    "      <td>\"he.{,5}o\"</td>\n",
    "    </tr>\n",
    "    <tr>\n",
    "      <td>|</td>\n",
    "      <td>Either or, use | in ( ) group to find</td>\n",
    "      <td>\"falls|stays\"</td>\n",
    "    </tr>\n",
    "    <tr>\n",
    "      <td>()</td>\n"
   ]
  },
  {
   "cell_type": "code",
   "execution_count": 16,
   "id": "f6af9852-f0af-4107-a29c-c662c32ef0dd",
   "metadata": {},
   "outputs": [
    {
     "name": "stdout",
     "output_type": "stream",
     "text": [
      "Hi how are you?\n"
     ]
    }
   ],
   "source": [
    "text = \"Hi how are you?\"\n",
    "pattern = re.compile(r\"^(Hi).*\\?$\")\n",
    "matches = pattern.finditer(text)\n",
    "for i in matches:\n",
    "    print(i.group())"
   ]
  },
  {
   "cell_type": "markdown",
   "id": "8b097d3a-dacc-4ff6-a462-a33e4da46f1b",
   "metadata": {
    "jp-MarkdownHeadingCollapsed": true
   },
   "source": [
    "### Special Characters"
   ]
  },
  {
   "cell_type": "markdown",
   "id": "b3966798-7796-4ba8-ab3a-1e28d777cdd5",
   "metadata": {},
   "source": [
    "| Special Characters            | Used in RE as                | Meaning                           |\n",
    "|-------------------------------|-----------------------------|-----------------------------------|\n",
    "| `$`                           | /$                      | dollar                            |\n",
    "| `*`                           | /*             | star / asterisk                   |\n",
    "| `+`                           | /+                        | plus                              |\n",
    "| `?`                           | /?               | question mark                     |\n",
    "| `{}`                          | /{ }           | open/close flower bracket         |\n",
    "| `[]`                          | /[ ]  | open/close square bracket         |\n",
    "| `\\`                           | /\\                   | backslash                         |\n",
    "| `|`                           | /|                        | pipe                              |\n",
    "| `()`                          | /( )      | open/close parenthesis            |\n"
   ]
  },
  {
   "cell_type": "markdown",
   "id": "f06fcf38-325f-4c8b-ae89-324bf54b0f0b",
   "metadata": {
    "jp-MarkdownHeadingCollapsed": true
   },
   "source": [
    "### RegEx Sets\n",
    "- A set is a set of characters inside a pair of square brackets [] with a special meaning"
   ]
  },
  {
   "cell_type": "markdown",
   "id": "96dab26b-7bad-45fb-958c-e4f5baf3076f",
   "metadata": {},
   "source": [
    "<table class=\"ws-table-all notranslate\">\r\n",
    "  <tbody>\r\n",
    "    <tr>\r\n",
    "      <th style=\"width:120px\">Set</th>\r\n",
    "      <th>Description</th>\r\n",
    "      <th style=\"width:75px\">Example</th>\r\n",
    "    </tr>\r\n",
    "    <tr>\r\n",
    "      <td>[arn]</td>\r\n",
    "      <td>Returns a match where one of the specified characters (<code class=\"w3-codespan\">a</code>,\r\n",
    "        <code class=\"w3-codespan\">r</code>, or <code class=\"w3-codespan\">n</code>) is present</td>\r\n",
    "      <td>\"[a-m]\"</td>\r\n",
    "    </tr>\r\n",
    "    <tr>\r\n",
    "      <td>[a-n]</td>\r\n",
    "      <td>Returns a match for any lowercase character, alphabetically between\r\n",
    "        <code class=\"w3-codespan\">a</code> and <code class=\"w3-codespan\">n</code></td>\r\n",
    "      <td>\"[a-n]\"</td>\r\n",
    "    </tr>\r\n",
    "    <tr>\r\n",
    "      <td>[^arn]</td>\r\n",
    "      <td>Returns a match for any character EXCEPT <code class=\"w3-codespan\">a</code>,\r\n",
    "        <code class=\"w3-codespan\">r</code>, and <code class=\"w3-codespan\">n</code></td>\r\n",
    "      <td>\"[^arn]\"</td>\r\n",
    "    </tr>\r\n",
    "    <tr>\r\n",
    "      <td>[0123]</td>\r\n",
    "      <td>Returns a match where any of the specified digits (<code class=\"w3-codespan\">0</code>,\r\n",
    "        <code class=\"w3-codespan\">1</code>, <code class=\"w3-codespan\">2</code>, or <code class=\"w3-codespan\">3</code>) are present</td>\r\n",
    "      <td>\"[0123]\"</td>\r\n",
    "    </tr>\r\n",
    "    <tr>\r\n",
    "      <td>[0-9]</td>\r\n",
    "      <td>Returns a match for any digit between\r\n",
    "        <code class=\"w3-codespan\">0</code> and <code class=\"w3-codespan\">9</code></td>\r\n",
    "      <td>\"[0-9]\"</td>\r\n",
    "    </tr>\r\n",
    "    <tr>\r\n",
    "      <td>[0-5][0-9]</td>\r\n",
    "      <td>Returns a match for any two-digit numbers from <code class=\"w3-codespan\">00</code> and <code class=\"w3-codespan\">59</code></td>\r\n",
    "      <td>\"[0-5][0-9]\"</td>\r\n",
    "    </tr>\r\n",
    "    <tr>\r\n",
    "      <td>[a-zA-Z]</td>\r\n",
    "      <td>Returns a match for any character alphabetically between\r\n",
    "        <code class=\"w3-codespan\">a</code> and <code class=\"w3-codespan\">z</code>, lowercase OR uppercase</td>\r\n",
    "      <td>\"[a-zA-Z]\"</td>\r\n",
    "    </tr>\r\n",
    "    <tr>\r\n",
    "      <td>[+]</td>\r\n",
    "      <td>In sets, <code class=\"w3-codespan\">+</code>, <code class=\"w3-codespan\">*</code>,\r\n",
    "        <code class=\"w3-codespan\">.</code>, <code class=\"w3-codespan\">|</code>,\r\n",
    "        <code class=\"w3-codespan\">()</code>, <code class=\"w3-codespan\">$</code>,<code class=\"w3-codespan\">{}</code> has no special meaning,\r\n",
    "        so <code class=\"w3-codespan\">[+]</code> means: return a match for any <code class=\"w3-codespan\">+</code> character in the string</td>\r\n",
    "      <td>\"[+]\"</td>\r\n",
    "    </tr>\r\n",
    "  </tbody>\r\n",
    "</table>\r\n"
   ]
  },
  {
   "cell_type": "markdown",
   "id": "ad1b4977-e006-4884-bba6-5b7f1675913e",
   "metadata": {
    "jp-MarkdownHeadingCollapsed": true
   },
   "source": [
    "### Serch statements"
   ]
  },
  {
   "cell_type": "markdown",
   "id": "497c9b9e-f63e-4014-8a7a-315f2caa4b6e",
   "metadata": {},
   "source": [
    "#### Print all dates"
   ]
  },
  {
   "cell_type": "code",
   "execution_count": 17,
   "id": "45799422-f38c-4fe0-b306-41381b7edca6",
   "metadata": {},
   "outputs": [],
   "source": [
    "text = \"\"\"Hi, today is 17-Apr-2021, yesterday was 16-Apr-2021 and tomorrow will be 18-Apr-2021.\n",
    "My schedule is free on 26-04-2021, 06.05.2021 and 16/Jun/2021 and 02/Apr/2026.\n",
    "You can reach out to me at myname2020@dummy.com or ask_help@demo.net & conference@demo.co.in\n",
    "You can also call me at one of the following no's +6032-007 1212, +6099.100 3344, 017-9998800 etc.\"\"\""
   ]
  },
  {
   "cell_type": "code",
   "execution_count": 18,
   "id": "12d40e01-4ccf-448b-b137-736f11090225",
   "metadata": {},
   "outputs": [
    {
     "data": {
      "text/plain": [
       "['17-Apr-2021', '16-Apr-2021', '18-Apr-2021']"
      ]
     },
     "execution_count": 18,
     "metadata": {},
     "output_type": "execute_result"
    }
   ],
   "source": [
    "datePattern = re.compile(r'\\d{2}-[a-zA-Z]{3}-\\d{4}')\n",
    "matches = datePattern.findall(text)\n",
    "matches"
   ]
  },
  {
   "cell_type": "code",
   "execution_count": 19,
   "id": "a6a402ef-34e1-4fd2-88a4-361b65af1223",
   "metadata": {},
   "outputs": [
    {
     "data": {
      "text/plain": [
       "['16/Jun/2021', '02/Apr/2026']"
      ]
     },
     "execution_count": 19,
     "metadata": {},
     "output_type": "execute_result"
    }
   ],
   "source": [
    "datePattern = re.compile(r\"\\d{2}/[a-zA-Z]{3}/\\d{4}\")\n",
    "matches = datePattern.findall(text)\n",
    "matches"
   ]
  },
  {
   "cell_type": "code",
   "execution_count": 20,
   "id": "9aaf411d-e870-4b36-894c-a74ae3193864",
   "metadata": {},
   "outputs": [
    {
     "data": {
      "text/plain": [
       "['06.05.2021']"
      ]
     },
     "execution_count": 20,
     "metadata": {},
     "output_type": "execute_result"
    }
   ],
   "source": [
    "datePattern = re.compile(r\"\\d{2}[.]\\d{2}[.]\\d{4}\")\n",
    "matches = datePattern.findall(text)\n",
    "matches"
   ]
  },
  {
   "cell_type": "markdown",
   "id": "05aebe98-eeb4-4a32-9d2f-bd8d52f2ff2c",
   "metadata": {},
   "source": [
    "- Create a pattern to find all date from string"
   ]
  },
  {
   "cell_type": "code",
   "execution_count": 21,
   "id": "7aa71485-afc7-4542-a4fb-6f2c495685df",
   "metadata": {},
   "outputs": [
    {
     "data": {
      "text/plain": [
       "['Apr', 'Apr', 'Apr', '04', '05', 'Jun', 'Apr']"
      ]
     },
     "execution_count": 21,
     "metadata": {},
     "output_type": "execute_result"
    }
   ],
   "source": [
    "allDatePattern = re.compile(r\"\\d{2}[-./]([a-zA-Z]{3}|\\d{2})[-/.]\\d{4}\")\n",
    "matches = allDatePattern.findall(text)\n",
    "matches"
   ]
  },
  {
   "cell_type": "code",
   "execution_count": 22,
   "id": "41673b49-8fc5-4ab7-82dd-e1961326af65",
   "metadata": {},
   "outputs": [
    {
     "name": "stdout",
     "output_type": "stream",
     "text": [
      "17-Apr-2021 , 16-Apr-2021 , 18-Apr-2021 , 26-04-2021 , 06.05.2021 , 16/Jun/2021 , 02/Apr/2026 , "
     ]
    }
   ],
   "source": [
    "rn= re.compile(r'\\d{2}[-./]([a-zA-Z]{3}|\\d{2})[-./]\\d{4}')\n",
    "matches = rn.finditer(text)\n",
    "for i in matches:\n",
    "    print(i.group(), end = ' , ')"
   ]
  },
  {
   "cell_type": "markdown",
   "id": "8b8da910-993a-47a2-aa83-a5e655e9ce56",
   "metadata": {},
   "source": [
    "<table>\n",
    "    <tbody>\n",
    "        <tr>\n",
    "            <td>\n",
    "                <bold>Expression</bold>\n",
    "            </td>\n",
    "            <td>\n",
    "                <p><a>\\d{2}</a>\n",
    "                </p>\n",
    "            </td>\n",
    "            <td>\n",
    "                <p>[-./]</p>\n",
    "            </td>\n",
    "            <td>\n",
    "                <p>([a-zA-Z]{3}|\\d{2})</p>\n",
    "            </td>\n",
    "            <td>\n",
    "                <p>[-/.]</p>\n",
    "            </td>\n",
    "            <td>\n",
    "                <p>\\d{4}</p>\n",
    "            </td>\n",
    "        </tr>\n",
    "        <tr>\n",
    "            <td>\n",
    "                <bold>Description</bold>\n",
    "            </td>\n",
    "            <td>\n",
    "                <p>Two digit</p>\n",
    "            </td>\n",
    "            <td>\n",
    "                <p>Set of -,. And /</p>\n",
    "            </td>\n",
    "            <td>\n",
    "                <p>Group of 3 alphabets or 2 digits</p>\n",
    "            </td>\n",
    "            <td>\n",
    "                <p>Set of -,. And /</p>\n",
    "            </td>\n",
    "            <td>\n",
    "                <p>Four digits</p>\n",
    "            </td>\n",
    "        </tr>\n",
    "        <tr>\n",
    "            <td>\n",
    "                <bold>Result</bold>\n",
    "            </td>\n",
    "            <td>\n",
    "                <p>17</p>\n",
    "            </td>\n",
    "            <td>\n",
    "                <p>-</p>\n",
    "            </td>\n",
    "            <td>\n",
    "                <p>Apr</p>\n",
    "            </td>\n",
    "            <td>\n",
    "                <p>-</p>\n",
    "            </td>\n",
    "            <td>\n",
    "                <p>2021</p>\n",
    "            </td>\n",
    "        </tr>\n",
    "        <tr>\n",
    "            <td>\n",
    "                <bold>Result</bold>\n",
    "            </td>\n",
    "            <td>\n",
    "                <p>16</p>\n",
    "            </td>\n",
    "            <td>\n",
    "                <p>-</p>\n",
    "            </td>\n",
    "            <td>\n",
    "                <p>Apr</p>\n",
    "            </td>\n",
    "            <td>\n",
    "                <p>-</p>\n",
    "            </td>\n",
    "            <td>\n",
    "                <p>2021</p>\n",
    "            </td>\n",
    "        </tr>\n",
    "        <tr>\n",
    "            <td>\n",
    "                <bold>Result</bold>\n",
    "            </td>\n",
    "            <td>\n",
    "                <p>18</p>\n",
    "            </td>\n",
    "            <td>\n",
    "                <p>-</p>\n",
    "            </td>\n",
    "            <td>\n",
    "                <p>Apr</p>\n",
    "            </td>\n",
    "            <td>\n",
    "                <p>-</p>\n",
    "            </td>\n",
    "            <td>\n",
    "                <p>2021</p>\n",
    "            </td>\n",
    "        </tr>\n",
    "        <tr>\n",
    "            <td>\n",
    "                <bold>Result</bold>\n",
    "            </td>\n",
    "            <td>\n",
    "                <p>26</p>\n",
    "            </td>\n",
    "            <td>\n",
    "                <p>-</p>\n",
    "            </td>\n",
    "            <td>\n",
    "                <p>04</p>\n",
    "            </td>\n",
    "            <td>\n",
    "                <p>-</p>\n",
    "            </td>\n",
    "            <td>\n",
    "                <p>2021</p>\n",
    "            </td>\n",
    "        </tr>\n",
    "        <tr>\n",
    "            <td>\n",
    "                <bold>Result</bold>\n",
    "            </td>\n",
    "            <td>\n",
    "                <p>06</p>\n",
    "            </td>\n",
    "            <td>\n",
    "                <p>.</p>\n",
    "            </td>\n",
    "            <td>\n",
    "                <p>05</p>\n",
    "            </td>\n",
    "            <td>\n",
    "                <p>.</p>\n",
    "            </td>\n",
    "            <td>\n",
    "                <p>2021</p>\n",
    "            </td>\n",
    "        </tr>\n",
    "        <tr>\n",
    "            <td>\n",
    "                <bold>Result</bold>\n",
    "            </td>\n",
    "            <td>\n",
    "                <p>16</p>\n",
    "            </td>\n",
    "            <td>\n",
    "                <p>/</p>\n",
    "            </td>\n",
    "            <td>\n",
    "                <p>Jun</p>\n",
    "            </td>\n",
    "            <td>\n",
    "                <p>/</p>\n",
    "            </td>\n",
    "            <td>\n",
    "                <p>2021</p>\n",
    "            </td>\n",
    "        </tr>\n",
    "        <tr>\n",
    "            <td>\n",
    "                <bold>Result</bold>\n",
    "            </td>\n",
    "            <td>\n",
    "                <p>02</p>\n",
    "            </td>\n",
    "            <td>\n",
    "                <p>/</p>\n",
    "            </td>\n",
    "            <td>\n",
    "                <p>Apr</p>\n",
    "            </td>\n",
    "            <td>\n",
    "                <p>/</p>\n",
    "            </td>\n",
    "            <td>\n",
    "                <p>2026</p>\n",
    "            </td>\n",
    "        </tr>\n",
    "    </tbody>\n",
    "</table>"
   ]
  },
  {
   "cell_type": "markdown",
   "id": "b5283c73-8572-4128-aa1a-0991ed1dd827",
   "metadata": {},
   "source": [
    "#### Print all emails"
   ]
  },
  {
   "cell_type": "code",
   "execution_count": 23,
   "id": "9f8c14f5-3413-4346-b6a7-d9eb78f74230",
   "metadata": {},
   "outputs": [],
   "source": [
    "text = \"\"\"Hi, today is 17-Apr-2021, yesterday was 16-Apr-2021 and tomorrow will be 18-Apr-2021.\n",
    "My schedule is free on 26-04-2021, 06.05.2021 and 16/Jun/2021 and 02/Apr/2026.\n",
    "You can reach out to me at myname2020@dummy.com or ask_help@demo.net & conference@demo.co.in\n",
    "You can also call me at one of the following no's +6032-007 1212, +6099.100 3344, 017-9998800 etc.\"\"\""
   ]
  },
  {
   "cell_type": "code",
   "execution_count": 24,
   "id": "a001afec-fdbc-4cd4-92c1-098fd75ca2ec",
   "metadata": {},
   "outputs": [
    {
     "name": "stdout",
     "output_type": "stream",
     "text": [
      "myname2020@dummy.com , ask_help@demo.net , "
     ]
    }
   ],
   "source": [
    "allEmailPattern = re.compile(r\"\\w+@[a-z]+\\.[a-z]{3}\")\n",
    "matches = allEmailPattern.finditer(text)\n",
    "for i in matches:\n",
    "    print(i.group(), end = \" , \")"
   ]
  },
  {
   "cell_type": "code",
   "execution_count": 25,
   "id": "74b55c57-09ee-4831-b72e-9b4db4e0a729",
   "metadata": {},
   "outputs": [
    {
     "name": "stdout",
     "output_type": "stream",
     "text": [
      "myname2020@dummy.com , ask_help@demo.net , conference@demo.co.in , "
     ]
    }
   ],
   "source": [
    "allEmailPattern = re.compile(r\"\\w+@[a-z]+\\.([a-z]{3}|[a-z]{2}\\.[a-z]{2})\")\n",
    "matches = allEmailPattern.finditer(text)\n",
    "for i in matches:\n",
    "    print(i.group(), end=\" , \")"
   ]
  },
  {
   "cell_type": "markdown",
   "id": "edd2fef6-2130-4334-ac7a-09f4bad0d841",
   "metadata": {},
   "source": [
    "<table>\r\n",
    "    <tbody>\r\n",
    "        <tr>\r\n",
    "            <td>Expression&nbsp;</td>\r\n",
    "            <td>\\w+&nbsp;</td>\r\n",
    "            <td>@&nbsp;</td>\r\n",
    "            <td>\r\n",
    "                <p>[a-z]+</p>\r\n",
    "            </td>\r\n",
    "            <td>\r\n",
    "                <p>\\.&nbsp;</p>\r\n",
    "            </td>\r\n",
    "            <td>\r\n",
    "                <p>[a-z]{3}|[a-z]{2}\\.[a-z]{2})&nbsp;</p>\r\n",
    "            </td>\r\n",
    "            <td>r\"\\w+@[a-z]+\\.([a-z]{3}|[a-z]{2}\\.[a-z]{2})\"&nbsp;</td>\r\n",
    "        </tr>\r\n",
    "        <tr>\r\n",
    "            <td>Description&nbsp;</td>\r\n",
    "            <td>\r\n",
    "                <p>Multiple words or numbers&nbsp;</p>\r\n",
    "            </td>\r\n",
    "            <td>\r\n",
    "                <p>@</p>\r\n",
    "            </td>\r\n",
    "            <td>\r\n",
    "                <p>a to z&nbsp;</p>\r\n",
    "            </td>\r\n",
    "            <td>dot&nbsp;</td>\r\n",
    "            <td>3 words or 2 . 2 words&nbsp;</td>\r\n",
    "            <td>&nbsp;</td>\r\n",
    "        </tr>\r\n",
    "        <tr>\r\n",
    "            <td>Result&nbsp;</td>\r\n",
    "            <td>\r\n",
    "                <p>myname2020&nbsp;</p>\r\n",
    "            </td>\r\n",
    "            <td>@&nbsp;</td>\r\n",
    "            <td>\r\n",
    "                <p>dummy&nbsp;</p>\r\n",
    "            </td>\r\n",
    "            <td>.&nbsp;</td>\r\n",
    "            <td>\r\n",
    "                <p>com&nbsp;</p>\r\n",
    "            </td>\r\n",
    "            <td>&nbsp;myname2020@dummy.com</td>\r\n",
    "        </tr>\r\n",
    "        <tr>\r\n",
    "            <td>Result&nbsp;</td>\r\n",
    "            <td>\r\n",
    "                <p>ask_help&nbsp;</p>\r\n",
    "            </td>\r\n",
    "            <td>@&nbsp;</td>\r\n",
    "            <td>\r\n",
    "                <p>demo&nbsp;</p>\r\n",
    "            </td>\r\n",
    "            <td>.&nbsp;</td>\r\n",
    "            <td>\r\n",
    "                <p>net&nbsp;</p>\r\n",
    "            </td>\r\n",
    "            <td>ask_help@demo.net&nbsp;</td>\r\n",
    "        </tr>\r\n",
    "        <tr>\r\n",
    "            <td>Result&nbsp;</td>\r\n",
    "            <td>\r\n",
    "                <p>conference&nbsp;</p>\r\n",
    "            </td>\r\n",
    "            <td>@&nbsp;</td>\r\n",
    "            <td>\r\n",
    "                <p>demo&nbsp;</p>\r\n",
    "            </td>\r\n",
    "            <td>.&nbsp;</td>\r\n",
    "            <td>\r\n",
    "                <p>co.in&nbsp;</p>\r\n",
    "            </td>\r\n",
    "            <td>conference@demo.co.in&nbsp;</td>\r\n",
    "        </tr>\r\n",
    "    </tbody>\r\n",
    "</table>"
   ]
  },
  {
   "cell_type": "code",
   "execution_count": 26,
   "id": "35012ffe-1946-46e9-ac9d-ca21b15664f1",
   "metadata": {},
   "outputs": [
    {
     "name": "stdout",
     "output_type": "stream",
     "text": [
      "myname2020@dummy.com , ask_help@demo.net , conference@demo.co , "
     ]
    }
   ],
   "source": [
    "# allEmailPattern = re.compile(r\"\\w+@[a-z]+(\\.[a-z]{2,3})+\") dot inside group\n",
    "allEmailPattern = re.compile(r\"\\w+@[a-z]+\\.([a-z]{2,3})+\")\n",
    "matches = allEmailPattern.finditer(text)\n",
    "for i in matches:\n",
    "    print(i.group(), end=\" , \")"
   ]
  },
  {
   "cell_type": "markdown",
   "id": "5a48ae71-7723-41f8-abf9-6ebe98a1dfc5",
   "metadata": {},
   "source": [
    "<table>\r\n",
    "    <tbody>\r\n",
    "        <tr>\r\n",
    "            <td>Expression&nbsp;</td>\r\n",
    "            <td>\\w+&nbsp;</td>\r\n",
    "            <td>@&nbsp;</td>\r\n",
    "            <td>\r\n",
    "                <p>[a-z]+</p>\r\n",
    "            </td>\r\n",
    "            <td>\r\n",
    "                <p>\\.&nbsp;</p>\r\n",
    "            </td>\r\n",
    "            <td>\r\n",
    "                <p>([a-z]{2,3})+</p>\r\n",
    "            </td>\r\n",
    "            <td>r\"\\w+@[a-z]+(\\.[a-z]{2,3})+\"</td>\r\n",
    "        </tr>\r\n",
    "        <tr>\r\n",
    "            <td>Description&nbsp;</td>\r\n",
    "            <td>\r\n",
    "                <p>Multiple words or numbers&nbsp;</p>\r\n",
    "            </td>\r\n",
    "            <td>\r\n",
    "                <p>@</p>\r\n",
    "            </td>\r\n",
    "            <td>\r\n",
    "                <p>a to z&nbsp;</p>\r\n",
    "            </td>\r\n",
    "            <td>dot&nbsp;</td>\r\n",
    "            <td>3 words or 2 words multiple time&nbsp;</td>\r\n",
    "            <td>&nbsp;</td>\r\n",
    "        </tr>\r\n",
    "        <tr>\r\n",
    "            <td>Result&nbsp;</td>\r\n",
    "            <td>\r\n",
    "                <p>myname2020&nbsp;</p>\r\n",
    "            </td>\r\n",
    "            <td>@&nbsp;</td>\r\n",
    "            <td>\r\n",
    "                <p>dummy&nbsp;</p>\r\n",
    "            </td>\r\n",
    "            <td>.&nbsp;</td>\r\n",
    "            <td>\r\n",
    "                <p>com&nbsp;</p>\r\n",
    "            </td>\r\n",
    "            <td>&nbsp;myname2020@dummy.com</td>\r\n",
    "        </tr>\r\n",
    "        <tr>\r\n",
    "            <td>Result&nbsp;</td>\r\n",
    "            <td>\r\n",
    "                <p>ask_help&nbsp;</p>\r\n",
    "            </td>\r\n",
    "            <td>@&nbsp;</td>\r\n",
    "            <td>\r\n",
    "                <p>demo&nbsp;</p>\r\n",
    "            </td>\r\n",
    "            <td>.&nbsp;</td>\r\n",
    "            <td>\r\n",
    "                <p>net&nbsp;</p>\r\n",
    "            </td>\r\n",
    "            <td>ask_help@demo.net&nbsp;</td>\r\n",
    "        </tr>\r\n",
    "        <tr>\r\n",
    "            <td>Result&nbsp;</td>\r\n",
    "            <td>\r\n",
    "                <p>conference&nbsp;</p>\r\n",
    "            </td>\r\n",
    "            <td>@&nbsp;</td>\r\n",
    "            <td>\r\n",
    "                <p>demo&nbsp;</p>\r\n",
    "            </td>\r\n",
    "            <td>.&nbsp;</td>\r\n",
    "            <td>\r\n",
    "                <p>co.in&nbsp;</p>\r\n",
    "            </td>\r\n",
    "            <td>conference@demo.co.in&nbsp;</td>\r\n",
    "        </tr>\r\n",
    "    </tbody>\r\n",
    "</table>\r\n",
    "<!-- DivTable.com -->"
   ]
  },
  {
   "cell_type": "markdown",
   "id": "0ace9802-e16a-4f4e-aab5-81033d32f415",
   "metadata": {},
   "source": [
    "#### Print all contact numbers"
   ]
  },
  {
   "cell_type": "code",
   "execution_count": 27,
   "id": "1744337a-9b55-400b-b850-583814298311",
   "metadata": {},
   "outputs": [],
   "source": [
    "text = \"\"\"Hi, today is 17-Apr-2021, yesterday was 16-Apr-2021 and tomorrow will be 18-Apr-2021.\n",
    "My schedule is free on 26-04-2021, 06.05.2021 and 16/Jun/2021 and 02/Apr/2026.\n",
    "You can reach out to me at myname2020@dummy.com or ask_help@demo.net & conference@demo.co.in\n",
    "You can also call me at one of the following no's +6032-007 1212, +6099.100 3344, 017-9998800 etc.\"\"\""
   ]
  },
  {
   "cell_type": "code",
   "execution_count": 28,
   "id": "ad5bb05c-9682-4f3c-b5e1-192841839cb5",
   "metadata": {},
   "outputs": [
    {
     "name": "stdout",
     "output_type": "stream",
     "text": [
      "<re.Match object; span=(308, 322), match='+6032-007 1212'>\n",
      "<re.Match object; span=(324, 338), match='+6099.100 3344'>\n"
     ]
    }
   ],
   "source": [
    "contactPattern = re.compile(r\"\\+\\d{4}[-.]\\d{3} \\d{4}\")\n",
    "matches = contactPattern.finditer(text)\n",
    "for i in matches:\n",
    "    print(i)"
   ]
  },
  {
   "cell_type": "code",
   "execution_count": 29,
   "id": "79253f64-15ac-4044-b0a5-b03cd7141287",
   "metadata": {},
   "outputs": [
    {
     "name": "stdout",
     "output_type": "stream",
     "text": [
      "+6032-007 1212 , +6099.100 3344 , 017-9998800 , "
     ]
    }
   ],
   "source": [
    "contactPattern = re.compile(r\"(\\+\\d)?\\d{3}[-.]\\d{3}\\s?\\d{4}\")\n",
    "matches = contactPattern.finditer(text)\n",
    "for i in matches:\n",
    "    print(i.group(), end=' , ')"
   ]
  },
  {
   "cell_type": "markdown",
   "id": "ca3d3165-93ea-4d06-a127-b630616df972",
   "metadata": {},
   "source": [
    "<table>\r\n",
    "    <tbody>\r\n",
    "        <tr>\r\n",
    "            <td>Expression</td>\r\n",
    "            <td>\r\n",
    "                <p>(\\+\\d)?</p>\r\n",
    "            </td>\r\n",
    "            <td>\r\n",
    "                <p>\\d{3}</p>\r\n",
    "            </td>\r\n",
    "            <td>[-.]</td>\r\n",
    "            <td>\\d{3}</td>\r\n",
    "            <td>\\s?</td>\r\n",
    "            <td>\\d{4}</td>\r\n",
    "            <td></td>\r\n",
    "        </tr>\r\n",
    "        <tr>\r\n",
    "            <td>Description</td>\r\n",
    "            <td>+ and 1 digit optional</td>\r\n",
    "            <td>3 digits</td>\r\n",
    "            <td>- or .</td>\r\n",
    "            <td>3digits</td>\r\n",
    "            <td>Space optional</td>\r\n",
    "            <td>4digit</td>\r\n",
    "            <td></td>\r\n",
    "        </tr>\r\n",
    "        <tr>\r\n",
    "            <td>Result</td>\r\n",
    "            <td>+6</td>\r\n",
    "            <td>032</td>\r\n",
    "            <td>-</td>\r\n",
    "            <td>007</td>\r\n",
    "            <td>Yes</td>\r\n",
    "            <td>1212</td>\r\n",
    "            <td>+6032-007 1212</td>\r\n",
    "        </tr>\r\n",
    "        <tr>\r\n",
    "            <td>Result</td>\r\n",
    "            <td>+6</td>\r\n",
    "            <td>\r\n",
    "                <p>099</p>\r\n",
    "            </td>\r\n",
    "            <td>.</td>\r\n",
    "            <td>100</td>\r\n",
    "            <td>Yes</td>\r\n",
    "            <td>3344</td>\r\n",
    "            <td>\r\n",
    "                <p>+6099.100 3344</p>\r\n",
    "            </td>\r\n",
    "        </tr>\r\n",
    "        <tr>\r\n",
    "            <td>Result</td>\r\n",
    "            <td></td>\r\n",
    "            <td>\r\n",
    "                <p>017</p>\r\n",
    "            </td>\r\n",
    "            <td>-</td>\r\n",
    "            <td>999</td>\r\n",
    "            <td>No</td>\r\n",
    "            <td>8800</td>\r\n",
    "            <td>017-9998800</td>\r\n",
    "        </tr>\r\n",
    "    </tbody>\r\n",
    "</table>"
   ]
  }
 ],
 "metadata": {
  "kernelspec": {
   "display_name": "Python 3 (ipykernel)",
   "language": "python",
   "name": "python3"
  },
  "language_info": {
   "codemirror_mode": {
    "name": "ipython",
    "version": 3
   },
   "file_extension": ".py",
   "mimetype": "text/x-python",
   "name": "python",
   "nbconvert_exporter": "python",
   "pygments_lexer": "ipython3",
   "version": "3.10.5"
  }
 },
 "nbformat": 4,
 "nbformat_minor": 5
}
